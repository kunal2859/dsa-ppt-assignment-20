{
 "cells": [
  {
   "cell_type": "code",
   "execution_count": 2,
   "id": "a595f439",
   "metadata": {},
   "outputs": [
    {
     "name": "stdout",
     "output_type": "stream",
     "text": [
      "28\n"
     ]
    }
   ],
   "source": [
    "class Node:\n",
    "    def __init__(self, data):\n",
    "        self.data = data \n",
    "        self.left = None \n",
    "        self.right = None\n",
    "ans = float(\"-infinity\")\n",
    "def findLargestSubtreeSum(root):\n",
    "    if root is None:\n",
    "        return 0\n",
    "    if root.left is None and root.right is None:\n",
    "        return root.data\n",
    "    sumleft = findLargestSubtreeSum(root.left)\n",
    "    sumright = findLargestSubtreeSum(root.right)\n",
    "    sumrootnode = sumleft + sumright + root.data\n",
    "    tempmax = max(sumleft, sumright)\n",
    "    tempmax = max(tempmax, sumrootnode)\n",
    "    global ans\n",
    "    ans = max(ans, tempmax)\n",
    "    return sumrootnode\n",
    "\n",
    "root = Node(1)\n",
    "root.left = Node(2)\n",
    "root.right = Node(3)\n",
    "root.left.left = Node(4)\n",
    "root.left.right = Node(5)\n",
    "root.right.left = Node(6)\n",
    "root.right.right = Node(7)\n",
    "findLargestSubtreeSum(root)\n",
    "print(ans)"
   ]
  },
  {
   "cell_type": "code",
   "execution_count": 6,
   "id": "429971c7",
   "metadata": {},
   "outputs": [
    {
     "name": "stdout",
     "output_type": "stream",
     "text": [
      "1 3 4 5 6 7 8 10 12 "
     ]
    }
   ],
   "source": [
    "import math\n",
    "class Node:\n",
    "    def __init__(self, data):\n",
    "        self.data = data\n",
    "        self.left = None\n",
    "        self.right = None\n",
    "        \n",
    "def getNode(data):\n",
    "    newNode = Node(data)\n",
    "    newNode.data = data\n",
    "    newNode.left = None\n",
    "    newNode.right = None\n",
    "    return newNode\n",
    "\n",
    "def LevelOrder(root, data):\n",
    "    if(root == None):\n",
    "        root = getNode(data)\n",
    "        return root\n",
    " \n",
    "    if(data <= root.data):\n",
    "        root.left = LevelOrder(root.left, data)\n",
    "    else:\n",
    "        root.right = LevelOrder(root.right, data)\n",
    "    return root\n",
    "\n",
    "def constructBst(arr, n):\n",
    "    if(n == 0):\n",
    "        return None\n",
    "    root = None\n",
    " \n",
    "    for i in range(0, n):\n",
    "        root = LevelOrder(root, arr[i])\n",
    " \n",
    "    return root\n",
    " \n",
    "def inorderTraversal(root):\n",
    "    if (root == None):\n",
    "        return None\n",
    "    \n",
    "    for i in range(0, n):\n",
    "        root = LevelOrder(root, arr[i])\n",
    " \n",
    "    return root\n",
    " \n",
    "def inorderTraversal(root):\n",
    "    if (root == None):\n",
    "        return None\n",
    " \n",
    "    inorderTraversal(root.left)\n",
    "    print(root.data, end=\" \")\n",
    "    inorderTraversal(root.right)\n",
    "\n",
    "arr = [7, 4, 12, 3, 6, 8, 1, 5, 10]\n",
    "n = len(arr)\n",
    "root = constructBst(arr, n)\n",
    "root = inorderTraversal(root)"
   ]
  },
  {
   "cell_type": "code",
   "execution_count": 9,
   "id": "c8098426",
   "metadata": {},
   "outputs": [
    {
     "name": "stdout",
     "output_type": "stream",
     "text": [
      "No\n"
     ]
    }
   ],
   "source": [
    "INT_MIN, INT_MAX = float('-inf'), float('inf')\n",
    "class NodeDetails:\n",
    " \n",
    "    def __init__(self, data, min, max):\n",
    "        self.data = data\n",
    "        self.min = min\n",
    "        self.max = max\n",
    "        \n",
    "def levelOrderIsOfBST(arr, n):\n",
    "    if n == 0:\n",
    "        return True\n",
    "    q = []\n",
    "    i = 0\n",
    "    newNode = NodeDetails(arr[i], INT_MIN, INT_MAX)\n",
    "    i += 1\n",
    "    q.append(newNode)\n",
    "    while i != n and len(q) != 0:    \n",
    "        temp = q.pop(0)\n",
    "        if i < n and (arr[i] < temp.data and arr[i] > temp.min):\n",
    "            newNode = NodeDetails(arr[i], temp.min, temp.data)\n",
    "            i += 1\n",
    "            q.append(newNode)   \n",
    "            if i < n and (arr[i] > temp.data and arr[i] < temp.max):\n",
    "                newNode = NodeDetails(arr[i], temp.data, temp.max)\n",
    "                i += 1\n",
    "                q.append(newNode)        \n",
    "                 \n",
    "    if i == n:\n",
    "        return True\n",
    "    return False       \n",
    "arr = [11, 6, 13, 5, 12, 10]\n",
    "n = len(arr)    \n",
    "if levelOrderIsOfBST(arr, n):\n",
    "    print(\"Yes\")\n",
    "else:\n",
    "    print(\"No\")"
   ]
  }
 ],
 "metadata": {
  "kernelspec": {
   "display_name": "Python 3 (ipykernel)",
   "language": "python",
   "name": "python3"
  },
  "language_info": {
   "codemirror_mode": {
    "name": "ipython",
    "version": 3
   },
   "file_extension": ".py",
   "mimetype": "text/x-python",
   "name": "python",
   "nbconvert_exporter": "python",
   "pygments_lexer": "ipython3",
   "version": "3.9.13"
  }
 },
 "nbformat": 4,
 "nbformat_minor": 5
}
